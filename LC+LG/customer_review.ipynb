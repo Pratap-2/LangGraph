{
 "cells": [
  {
   "cell_type": "code",
   "execution_count": 1,
   "id": "54914916",
   "metadata": {},
   "outputs": [
    {
     "data": {
      "text/plain": [
       "True"
      ]
     },
     "execution_count": 1,
     "metadata": {},
     "output_type": "execute_result"
    }
   ],
   "source": [
    "from  typing import TypedDict ,List ,Literal\n",
    "from langchain_openai import ChatOpenAI\n",
    "from pydantic import BaseModel,Field\n",
    "from langgraph.graph import StateGraph,START,END\n",
    "from dotenv import load_dotenv\n",
    "load_dotenv()"
   ]
  },
  {
   "cell_type": "code",
   "execution_count": 2,
   "id": "ba26cfd7",
   "metadata": {},
   "outputs": [],
   "source": [
    "class sentiment(BaseModel):\n",
    "    sentiment : Literal[\"positive\",\"negative\"] =Field(description=\"Write the sentiment of the given review\")"
   ]
  },
  {
   "cell_type": "code",
   "execution_count": 3,
   "id": "05685df3",
   "metadata": {},
   "outputs": [],
   "source": [
    "class DiagnosisSchema(BaseModel):\n",
    "    issue_type: Literal[\"UX\", \"Performance\", \"Bug\", \"Support\", \"Other\"] = Field(description='The category of issue mentioned in the review')\n",
    "    tone: Literal[\"angry\", \"frustrated\", \"disappointed\", \"calm\",\"irritated\"] = Field(description='The emotional tone expressed by the user')\n",
    "    urgency: Literal[\"low\", \"medium\", \"high\"] = Field(description='How urgent or critical the issue appears to be')"
   ]
  },
  {
   "cell_type": "code",
   "execution_count": 4,
   "id": "0c6280f3",
   "metadata": {},
   "outputs": [],
   "source": [
    "model=ChatOpenAI(model=\"gpt-4o-mini\",temperature=0)\n",
    "llm1=model.with_structured_output(sentiment)\n",
    "llm2=model.with_structured_output(DiagnosisSchema)"
   ]
  },
  {
   "cell_type": "code",
   "execution_count": 5,
   "id": "b8bb6fac",
   "metadata": {},
   "outputs": [],
   "source": [
    "class ReviewState(TypedDict):\n",
    "    message :str \n",
    "    sentiment:Literal[\"positive\",\"negative\"]\n",
    "    diagnosis:dict\n",
    "    response:str"
   ]
  },
  {
   "cell_type": "code",
   "execution_count": 6,
   "id": "787b39fd",
   "metadata": {},
   "outputs": [],
   "source": [
    "def find_sentiment(state:ReviewState):\n",
    "    prompt=f\"Find out the sentiment of the following review {state['message']}\"\n",
    "    sentiment=llm1.invoke(prompt)\n",
    "    return {'sentiment':sentiment}\n",
    "\n",
    "def positive_support(state:ReviewState):\n",
    "    prompt=f\"Write a positive response for the following review {state['message']} and also be polite.Also, kindly ask the user to leave feedback on our website.\"\n",
    "    response=model.invoke(prompt).content\n",
    "    return {\"response\":response}\n",
    "\n",
    "def should_continue(state:ReviewState)->Literal[\"positive_support\", \"run_diagnosis\"]:\n",
    "    \"\"\"conditional edge for deciding what next we want to do \"\"\"\n",
    "    if state['sentiment']==\"positive\":\n",
    "        return 'positive_support'\n",
    "    else :\n",
    "        return 'run_diagnosis'\n",
    "\n",
    "\n",
    "def run_diagnosis(state:ReviewState) :\n",
    "    prompt=\"\"\"Diagnose the negative response.Find the issue_type , tone , urgency of the user's response\"\"\"\n",
    "    output=llm2.invoke(prompt)\n",
    "    return {'diagnosis':output.model_dump()}\n",
    "\n",
    "def negative_support(state:ReviewState):\n",
    "    diagnosis = state['diagnosis']\n",
    "    prompt=f\"\"\"Write a empathetic,helpful support message regarding the negative response from customer's side keeping in mind the  user had a '{diagnosis['issue_type']}' issue, sounded '{diagnosis['tone']}', and marked urgency as '{diagnosis['urgency']}'.\n",
    ".\"\"\"\n",
    "    output=model.invoke(prompt).content\n",
    "    return {'response':output}\n"
   ]
  },
  {
   "cell_type": "code",
   "execution_count": 7,
   "id": "b8dc7715",
   "metadata": {},
   "outputs": [],
   "source": [
    "graph=StateGraph(ReviewState)\n",
    "graph.add_node(\"find_sentiment\",find_sentiment)\n",
    "graph.add_node(\"positive_support\",positive_support)\n",
    "graph.add_node(\"negative_support\",negative_support)\n",
    "graph.add_node(\"run_diagnosis\",run_diagnosis)\n",
    "\n",
    "graph.add_edge(START,'find_sentiment')\n",
    "graph.add_conditional_edges(\n",
    "    \"find_sentiment\",\n",
    "    should_continue)\n",
    "graph.add_edge('positive_support',END)\n",
    "graph.add_edge('run_diagnosis','negative_support')\n",
    "graph.add_edge('negative_support',END)\n",
    "\n",
    "workflow=graph.compile()"
   ]
  },
  {
   "cell_type": "code",
   "execution_count": 8,
   "id": "cd7d567f",
   "metadata": {},
   "outputs": [
    {
     "data": {
      "image/png": "[encoded data removed]",
      "text/plain": [
       "<IPython.core.display.Image object>"
      ]
     },
     "metadata": {},
     "output_type": "display_data"
    }
   ],
   "source": [
    "from IPython.display import Image,display\n",
    "display(Image(workflow.get_graph().draw_mermaid_png()))"
   ]
  },
  {
   "cell_type": "code",
   "execution_count": 9,
   "id": "6a48d5dc",
   "metadata": {},
   "outputs": [
    {
     "name": "stdout",
     "output_type": "stream",
     "text": [
      "Subject: We're Here to Help You Resolve the Issue\n",
      "\n",
      "Dear [Customer's Name],\n",
      "\n",
      "Thank you for reaching out and sharing your concerns with us. I truly understand how frustrating it can be to encounter a bug, especially when it impacts your experience and feels urgent. Your feedback is invaluable, and I want to assure you that we are here to support you every step of the way.\n",
      "\n",
      "I apologize for any inconvenience this issue has caused you. Our team is committed to resolving it as quickly as possible. To help us address this matter effectively, could you please provide any additional details about the bug you’re experiencing? This information will assist us in diagnosing the problem and finding a solution more swiftly.\n",
      "\n",
      "We appreciate your patience and understanding as we work to resolve this. Your satisfaction is our top priority, and we are dedicated to ensuring you have a seamless experience moving forward.\n",
      "\n",
      "Thank you for your understanding, and I look forward to hearing from you soon.\n",
      "\n",
      "Warm regards,\n",
      "\n",
      "[Your Name]  \n",
      "[Your Position]  \n",
      "[Your Company]  \n",
      "[Your Contact Information]  \n"
     ]
    }
   ],
   "source": [
    "prompt={'message':\"The phone I bought is horrible it shuts down immediately. I wanna throw it .\"}\n",
    "ans=workflow.invoke(prompt)\n",
    "print(ans['response'])"
   ]
  }
 ],
 "metadata": {
  "kernelspec": {
   "display_name": "venv",
   "language": "python",
   "name": "python3"
  },
  "language_info": {
   "codemirror_mode": {
    "name": "ipython",
    "version": 3
   },
   "file_extension": ".py",
   "mimetype": "text/x-python",
   "name": "python",
   "nbconvert_exporter": "python",
   "pygments_lexer": "ipython3",
   "version": "3.13.4"
  }
 },
 "nbformat": 4,
 "nbformat_minor": 5
}
