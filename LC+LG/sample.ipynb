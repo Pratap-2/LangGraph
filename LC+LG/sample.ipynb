{
 "cells": [
  {
   "cell_type": "code",
   "execution_count": null,
   "id": "ac19a5fc",
   "metadata": {},
   "outputs": [],
   "source": [
    "from typing import TypedDict, Annotated\n",
    "import operator\n",
    "\n",
    "from langchain.text_splitter import RecursiveCharacterTextSplitter\n",
    "from langchain_community.document_loaders import TextLoader\n",
    "from langchain_community.vectorstores import FAISS\n",
    "from langchain.embeddings.openai import OpenAIEmbeddings\n",
    "from langchain_openai import ChatOpenAI\n",
    "from langgraph.graph import StateGraph\n",
    "from langchain_core.output_parsers import StrOutputParser\n",
    "from langchain_core.runnables import RunnableMap, RunnablePassthrough\n",
    "from dotenv import load_dotenv\n",
    "load_dotenv()\n"
   ]
  },
  {
   "cell_type": "code",
   "execution_count": null,
   "id": "981db98c",
   "metadata": {},
   "outputs": [],
   "source": [
    "class AgentState(TypedDict):\n",
    "    query: str\n",
    "    answer: str"
   ]
  },
  {
   "cell_type": "code",
   "execution_count": null,
   "id": "a463baa6",
   "metadata": {},
   "outputs": [],
   "source": [
    "loader = TextLoader(\"sample.txt\")  # Add your own .txt file here\n",
    "docs = loader.load()\n",
    "\n",
    "splitter = RecursiveCharacterTextSplitter(chunk_size=100, chunk_overlap=10)\n",
    "chunks = splitter.split_documents(docs)\n",
    "\n",
    "embedding_model = OpenAIEmbeddings()\n",
    "vector_store = FAISS.from_documents(documents=chunks, embedding=embedding_model)\n"
   ]
  },
  {
   "cell_type": "code",
   "execution_count": null,
   "id": "872a4307",
   "metadata": {},
   "outputs": [],
   "source": [
    "retriever=vector_store.as_retriever(\n",
    "    search_type='mmr',# <-- This enables MMR\n",
    "    search_kwargs={ 'k' : 3 , 'lambda_mult':0.5 } # k= top results , lambda_mult= relevance -diversity balance\n",
    ")"
   ]
  },
  {
   "cell_type": "code",
   "execution_count": null,
   "id": "e51c48d7",
   "metadata": {},
   "outputs": [],
   "source": [
    "model= ChatOpenAI(model=\"gpt-3.5-turbo\", temperature=0)\n",
    "\n",
    "parser= StrOutputParser()"
   ]
  },
  {
   "cell_type": "code",
   "execution_count": null,
   "id": "91532f5f",
   "metadata": {},
   "outputs": [],
   "source": [
    "from langchain.prompts import PromptTemplate\n",
    "\n",
    "prompt = PromptTemplate.from_template(\n",
    "    \"Given the following context:\\n\\n{context}\\n\\nAnswer the question:\\n{question}\"\n",
    ")\n"
   ]
  },
  {
   "cell_type": "code",
   "execution_count": null,
   "id": "c38e7aca",
   "metadata": {},
   "outputs": [],
   "source": [
    "chain = (\n",
    "    RunnableMap({\n",
    "        \"context\": lambda x: retriever.invoke(x[\"query\"]),\n",
    "        \"question\": lambda x: x[\"query\"]\n",
    "    })\n",
    "    | prompt\n",
    "    | model\n",
    "    | parser\n",
    ")\n"
   ]
  },
  {
   "cell_type": "code",
   "execution_count": null,
   "id": "48178aa8",
   "metadata": {},
   "outputs": [],
   "source": [
    "# Node 1: just pass query\n",
    "def input_node(state: AgentState) -> AgentState:\n",
    "    return {\"query\": state[\"query\"]}\n",
    "\n",
    "# Node 2: retrieve + answer\n",
    "def retrieval_node(state: AgentState) -> AgentState:\n",
    "    response = chain.invoke(state)\n",
    "    return {\"answer\": response}\n",
    "\n",
    "\n",
    "graph = StateGraph(AgentState)\n",
    "graph.add_node(\"input\", input_node)\n",
    "graph.add_node(\"retrieval\", retrieval_node)\n",
    "\n",
    "\n",
    "graph.set_entry_point(\"input\")\n",
    "graph.add_edge(\"input\", \"retrieval\")\n",
    "graph.set_finish_point(\"retrieval\")\n",
    "\n",
    "app = graph.compile()"
   ]
  },
  {
   "cell_type": "code",
   "execution_count": null,
   "id": "7c9eafd5",
   "metadata": {},
   "outputs": [],
   "source": [
    "result = app.invoke({\n",
    "    \"query\": \"What is LangGraph?\",\n",
    "    \"answer\": \"\"\n",
    "})\n",
    "\n",
    "print(result)\n",
    "print(result[\"answer\"])"
   ]
  }
 ],
 "metadata": {
  "kernelspec": {
   "display_name": "venv",
   "language": "python",
   "name": "python3"
  },
  "language_info": {
   "codemirror_mode": {
    "name": "ipython",
    "version": 3
   },
   "file_extension": ".py",
   "mimetype": "text/x-python",
   "name": "python",
   "nbconvert_exporter": "python",
   "pygments_lexer": "ipython3",
   "version": "3.13.4"
  }
 },
 "nbformat": 4,
 "nbformat_minor": 5
}
