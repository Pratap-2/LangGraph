{
 "cells": [
  {
   "cell_type": "code",
   "execution_count": 56,
   "id": "a26001b9",
   "metadata": {},
   "outputs": [],
   "source": [
    "from typing import TypedDict , Literal , Annotated ,List\n",
    "from pydantic import BaseModel,Field\n",
    "from langchain_openai import ChatOpenAI\n",
    "from langgraph.graph import StateGraph,START,END\n",
    "from dotenv import load_dotenv\n",
    "import operator"
   ]
  },
  {
   "cell_type": "code",
   "execution_count": 57,
   "id": "0613e43d",
   "metadata": {},
   "outputs": [],
   "source": [
    "load_dotenv()\n",
    "llm=ChatOpenAI(model='gpt-4o-mini')"
   ]
  },
  {
   "cell_type": "code",
   "execution_count": 58,
   "id": "162320fd",
   "metadata": {},
   "outputs": [],
   "source": [
    "class ResponseType(BaseModel):\n",
    "    message:str =Field(description=\"Detailed feedback for the essay\")\n",
    "    score:int =Field(description=\"Score out of 10\", ge=0 , le=10)"
   ]
  },
  {
   "cell_type": "code",
   "execution_count": 59,
   "id": "f1cefc6f",
   "metadata": {},
   "outputs": [],
   "source": [
    "structured_llm=llm.with_structured_output(ResponseType)\n",
    "essay = \"\"\"India in the Age of AI\n",
    "As the world enters a transformative era defined by artificial intelligence (AI), India stands at a critical juncture — one where it can either emerge as a global leader in AI innovation or risk falling behind in the technology race. The age of AI brings with it immense promise as well as unprecedented challenges, and how India navigates this landscape will shape its socio-economic and geopolitical future.\n",
    "\n",
    "India's strengths in the AI domain are rooted in its vast pool of skilled engineers, a thriving IT industry, and a growing startup ecosystem. With over 5 million STEM graduates annually and a burgeoning base of AI researchers, India possesses the intellectual capital required to build cutting-edge AI systems. Institutions like IITs, IIITs, and IISc have begun fostering AI research, while private players such as TCS, Infosys, and Wipro are integrating AI into their global services. In 2020, the government launched the National AI Strategy (AI for All) with a focus on inclusive growth, aiming to leverage AI in healthcare, agriculture, education, and smart mobility.\n",
    "\n",
    "One of the most promising applications of AI in India lies in agriculture, where predictive analytics can guide farmers on optimal sowing times, weather forecasts, and pest control. In healthcare, AI-powered diagnostics can help address India’s doctor-patient ratio crisis, particularly in rural areas. Educational platforms are increasingly using AI to personalize learning paths, while smart governance tools are helping improve public service delivery and fraud detection.\n",
    "\n",
    "However, the path to AI-led growth is riddled with challenges. Chief among them is the digital divide. While metropolitan cities may embrace AI-driven solutions, rural India continues to struggle with basic internet access and digital literacy. The risk of job displacement due to automation also looms large, especially for low-skilled workers. Without effective skilling and re-skilling programs, AI could exacerbate existing socio-economic inequalities.\n",
    "\n",
    "Another pressing concern is data privacy and ethics. As AI systems rely heavily on vast datasets, ensuring that personal data is used transparently and responsibly becomes vital. India is still shaping its data protection laws, and in the absence of a strong regulatory framework, AI systems may risk misuse or bias.\n",
    "\n",
    "To harness AI responsibly, India must adopt a multi-stakeholder approach involving the government, academia, industry, and civil society. Policies should promote open datasets, encourage responsible innovation, and ensure ethical AI practices. There is also a need for international collaboration, particularly with countries leading in AI research, to gain strategic advantage and ensure interoperability in global systems.\n",
    "\n",
    "India’s demographic dividend, when paired with responsible AI adoption, can unlock massive economic growth, improve governance, and uplift marginalized communities. But this vision will only materialize if AI is seen not merely as a tool for automation, but as an enabler of human-centered development.\n",
    "\n",
    "In conclusion, India in the age of AI is a story in the making — one of opportunity, responsibility, and transformation. The decisions we make today will not just determine India’s AI trajectory, but also its future as an inclusive, equitable, and innovation-driven society.\"\"\""
   ]
  },
  {
   "cell_type": "code",
   "execution_count": 60,
   "id": "5e0e084e",
   "metadata": {},
   "outputs": [],
   "source": [
    "class UPSCState(TypedDict):\n",
    "    \n",
    "    essay: str\n",
    "    language_feedback: str\n",
    "    analysis_feedback: str\n",
    "    clarity_feedback: str\n",
    "    overall_feedback: str\n",
    "    individual_scores: Annotated[list[int], operator.add]\n",
    "    avg_score: float"
   ]
  },
  {
   "cell_type": "code",
   "execution_count": 61,
   "id": "4f7d9eac",
   "metadata": {},
   "outputs": [],
   "source": [
    "def language_feedback(state:UPSCState):\n",
    "    prompt=f\"read the given eassy {state['essay']} and give the feedback on language quality and provide the score for the same \"\n",
    "    output=structured_llm.invoke(prompt)\n",
    "    return {'language_feedback':output.message,'individual_scores':[output.score]}\n",
    "\n",
    "def analysis_feedback(state:UPSCState):\n",
    "   prompt=f\"read the given eassy {state['essay']} and give the feedback on analysis quality of the topic in the essay and provide the score for the same \"\n",
    "   output=structured_llm.invoke(prompt)\n",
    "   return {'analysis_feedback':output.message,'individual_scores':[output.score]}\n",
    "\n",
    "def clarity_feedback(state:UPSCState):\n",
    "    prompt=f\"read the given eassy {state['essay']} and give the feedback on clarity of expressions quality and provide the score for the same \"\n",
    "    output=structured_llm.invoke(prompt)\n",
    "    return {'clarity_feedback':output.message,'individual_scores':[output.score]}\n",
    "\n",
    "def overall_feedback(state:UPSCState):\n",
    "        prompt=f\"\"\"Based on the final feedbacks of {state['analysis_feedback']},language feedback {state['clarity_feedback']},and clarity_feedback {state['clarity_feedback']} generate the overall summarized feedback\n",
    "\"\"\"\n",
    "        overall_feedback=structured_llm.invoke(prompt)\n",
    "        avg_score=sum(state['individual_scores'])/len(state['individual_scores'])\n",
    "        return { 'overall_feedback':overall_feedback,'avg_score':avg_score }"
   ]
  },
  {
   "cell_type": "code",
   "execution_count": 62,
   "metadata": {},
   "outputs": [],
   "source": [
    "graph=StateGraph(UPSCState)\n",
    "\n",
    "graph.add_node(\"language_feedback\",language_feedback)\n",
    "graph.add_node(\"analysis_feedback\",analysis_feedback)\n",
    "graph.add_node(\"clarity_feedback\",clarity_feedback)\n",
    "graph.add_node(\"overall_feedback\",overall_feedback)\n",
    "\n",
    "#adding edges\n",
    "graph.add_edge(START,'language_feedback')\n",
    "graph.add_edge(START,'analysis_feedback')\n",
    "graph.add_edge(START,'clarity_feedback')\n",
    "\n",
    "graph.add_edge('language_feedback','overall_feedback')\n",
    "graph.add_edge('analysis_feedback','overall_feedback')\n",
    "graph.add_edge('clarity_feedback','overall_feedback')\n",
    "\n",
    "graph.add_edge('overall_feedback', END)\n",
    "\n",
    "model=graph.compile()"
   ]
  },
  {
   "cell_type": "code",
   "execution_count": 63,
   "id": "c4ba8f4f",
   "metadata": {},
   "outputs": [
    {
     "data": {
      "image/png": "[encoded data removed]",
      "text/plain": [
       "<IPython.core.display.Image object>"
      ]
     },
     "metadata": {},
     "output_type": "display_data"
    }
   ],
   "source": [
    "from IPython.display import Image,display\n",
    "display(Image(model.get_graph().draw_mermaid_png()))"
   ]
  },
  {
   "cell_type": "code",
   "execution_count": null,
   "id": "9c83ad10",
   "metadata": {},
   "outputs": [
    {
     "name": "stdout",
     "output_type": "stream",
     "text": [
      "message='### Overall Feedback Summary:\\nThe essay \"India in the Age of AI\" presents a well-structured analysis of India\\'s promising landscape in AI development, effectively balancing its strengths and challenges. It begins with a clear thesis and follows a logical progression through the discussion, demonstrating a strong understanding of the implications of AI on various sectors, including healthcare, education, and agriculture.\\n\\n#### Key Strengths:\\n1. **Clear Structure and Thesis**: The essay lays out a coherent argument that is easy to follow, with each section logically building on the previous points.\\n2. **Use of Evidence**: The inclusion of specific data, such as statistics on STEM graduates and policy initiatives, adds credibility to the arguments presented.\\n3. **Balanced Perspective**: It successfully addresses both the benefits and challenges of AI adoption, indicating a nuanced understanding of the topic.\\n4. **Multi-Stakeholder Approach**: Highlighting the need for collaboration across different sectors adds depth to the discussion.\\n5. **Effective Conclusion**: The conclusion succinctly restates the key points and the importance of responsible AI use for inclusive growth.\\n\\n#### Areas for Improvement:\\n1. **Language Precision**: Some phrases could be sharpened for clarity; for example, replacing broad terms like \"societal inequalities\" with more specific ones.\\n2. **Detailed Examples**: Incorporating case studies or specific examples of AI implementations in India would reinforce the arguments and increase persuasive power.\\n3. **Transitions Between Ideas**: Enhancing the use of transitional phrases could improve the flow between paragraphs for a smoother reading experience.\\n4. **Grammar and Style**: Minor grammatical inconsistencies, such as punctuation, should be addressed for improved clarity.\\n5. **International Collaboration**: While mentioned, the essay could explore existing models or partnerships in AI that illustrate the potential for collaboration.\\n\\n### Overall Score: 8/10\\nThe essay effectively covers India\\'s strategic positioning in the age of AI. With enhancements in specificity, clarity, and illustrative examples, the argument\\'s impact could be significantly strengthened, making it a valuable contribution to current discussions on the topic.' score=8\n"
     ]
    }
   ],
   "source": [
    "initial_prompt={'essay':essay}\n",
    "output=model.invoke(initial_prompt)\n",
    "print(output['overall_feedback'])"
   ]
  },
  {
   "cell_type": "code",
   "execution_count": 66,
   "id": "d4663f3e",
   "metadata": {},
   "outputs": [
    {
     "name": "stdout",
     "output_type": "stream",
     "text": [
      "8.0\n"
     ]
    }
   ],
   "source": [
    "print(output['avg_score'])"
   ]
  }
 ],
 "metadata": {
  "kernelspec": {
   "display_name": "venv",
   "language": "python",
   "name": "python3"
  },
  "language_info": {
   "codemirror_mode": {
    "name": "ipython",
    "version": 3
   },
   "file_extension": ".py",
   "mimetype": "text/x-python",
   "name": "python",
   "nbconvert_exporter": "python",
   "pygments_lexer": "ipython3",
   "version": "3.13.4"
  }
 },
 "nbformat": 4,
 "nbformat_minor": 5
}
