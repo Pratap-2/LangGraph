{
 "cells": [
  {
   "cell_type": "code",
   "execution_count": 10,
   "id": "875eb996",
   "metadata": {},
   "outputs": [],
   "source": [
    "from langgraph.graph import START,END,StateGraph\n",
    "from langchain_openai import ChatOpenAI\n",
    "from typing import TypedDict,List\n",
    "from langchain_core.prompts import PromptTemplate\n",
    "from langchain_core.output_parsers import StrOutputParser\n",
    "from langchain_core.messages import BaseMessage,AIMessage,HumanMessage\n",
    "from dotenv import load_dotenv"
   ]
  },
  {
   "cell_type": "code",
   "execution_count": 11,
   "metadata": {},
   "outputs": [],
   "source": [
    "load_dotenv()\n",
    "model=ChatOpenAI()"
   ]
  },
  {
   "cell_type": "code",
   "execution_count": null,
   "metadata": {},
   "outputs": [],
   "source": [
    "class AgentState(TypedDict):\n",
    "    current_post: str\n",
    "    feedback: str\n",
    "    count: int =0"
   ]
  },
  {
   "cell_type": "code",
   "execution_count": 13,
   "metadata": {},
   "outputs": [],
   "source": [
    "GENERATE = \"generate\"\n",
    "SHOULD_CONTINUE = \"should_continue\"\n",
    "REFLECT = \"reflect\""
   ]
  },
  {
   "cell_type": "code",
   "execution_count": 14,
   "metadata": {},
   "outputs": [],
   "source": [
    "def generate_node(state: AgentState) -> AgentState:\n",
    "    \"\"\"Generate or improve the post\"\"\"\n",
    "    \n",
    "    \n",
    "    if state['count'] == 0:\n",
    "        # Initial generation\n",
    "        template = PromptTemplate(\n",
    "            template=(\n",
    "            \"You are a Twitter, LinkedIn, and Instagram post generator. \"\n",
    "            \"Evaluate the user's goal and generate the best possible viral, classy, or Gen-Z style post for {app}, \"\n",
    "            \"based on the topic: {topic}.\"\n",
    "            ),\n",
    "            input_variables=[\"app\", \"topic\"]\n",
    "        )\n",
    "\n",
    "        # print(\"📝 Creating initial post...\")\n",
    "    else:\n",
    "        # Improve based on feedback\n",
    "        template = PromptTemplate(\n",
    "            template=f\"\"\"Improve this  post based on feedback:\n",
    "            \n",
    "            Current post: {state['current_post']}\n",
    "            Feedback: {state['feedback']}\n",
    "            \n",
    "            Make it more viral and engaging.\"\"\",\n",
    "            input_variables=[]\n",
    "        )\n",
    "        # print(\"🔧 Improving post based on feedback...\")\n",
    "    \n",
    "    chain = template | model | StrOutputParser()\n",
    "    result = chain.invoke({'app':'LinkedIn','topic':'Why extra languages of Foreign countries must be taught in Indian schools'})\n",
    "    \n",
    "    state['current_post'] = result\n",
    "    # print(f\"✅ Generated: {result[:50]}...\")\n",
    "    return state\n",
    "\n",
    "\n",
    "def reflect_node(state: AgentState) -> AgentState:\n",
    "    \"\"\"Analyze the post and provide feedback\"\"\"\n",
    "    # print(\"🔍 REFLECT NODE - Analyzing post...\")\n",
    "    \n",
    "    template = PromptTemplate(\n",
    "        template=f\"\"\"Analyze this  post and provide specific feedback:\n",
    "        \n",
    "        Post: {state['current_post']}\n",
    "        \n",
    "        Give brief, actionable feedback for improvement focusing on engagement and viral potential.\"\"\",\n",
    "        input_variables=[]\n",
    "    )\n",
    "    \n",
    "    chain = template | model | StrOutputParser()\n",
    "    feedback = chain.invoke({})\n",
    "    \n",
    "    state['feedback'] = feedback\n",
    "    print(f\"💡 Feedback: {feedback[:100]}...\")\n",
    "    return state\n",
    "\n",
    "\n",
    "def should_continue_node(state: AgentState) -> AgentState:\n",
    "    \"\"\"Decision node - increment counter and prepare for routing\"\"\"\n",
    "    #print(f\"🤔 SHOULD_CONTINUE NODE - Current count: {state['count']}\")\n",
    "    state['count'] += 1\n",
    "    #print(f\"📊 Updated count to: {state['count']}\")\n",
    "    return state\n",
    "\n",
    "\n",
    "def routing_function(state: AgentState) -> str:\n",
    "    \"\"\"Route to either 'reflect' or 'end' based on count\"\"\"\n",
    "    if state['count'] >= 6:\n",
    "        # print(\"🏁 ROUTING: Going to END (max iterations reached)\")\n",
    "        return \"end\"\n",
    "    else:\n",
    "        # print(\"➡️ ROUTING: Going to REFLECT\")\n",
    "        return \"reflect\"\n",
    "\n",
    "\n"
   ]
  },
  {
   "cell_type": "code",
   "execution_count": 15,
   "metadata": {},
   "outputs": [],
   "source": [
    "# Build the graph exactly like your diagram\n",
    "graph = StateGraph(AgentState)\n",
    "\n",
    "# Add nodes\n",
    "graph.add_node(GENERATE, generate_node)\n",
    "graph.add_node(SHOULD_CONTINUE, should_continue_node)\n",
    "graph.add_node(REFLECT, reflect_node)\n",
    "\n",
    "# Add edges exactly matching your diagram\n",
    "graph.add_edge(START, GENERATE)                    # start -> generate\n",
    "graph.add_edge(GENERATE, SHOULD_CONTINUE)          # generate -> should_continue\n",
    "graph.add_conditional_edges(                       # should_continue -> reflect/end\n",
    "    SHOULD_CONTINUE,\n",
    "    routing_function,\n",
    "    {\n",
    "        \"reflect\": REFLECT,\n",
    "        \"end\": END\n",
    "    }\n",
    ")\n",
    "graph.add_edge(REFLECT, GENERATE)                  # reflect -> generate (loop back)\n",
    "\n",
    "# Compile the graph\n",
    "app = graph.compile()"
   ]
  },
  {
   "cell_type": "code",
   "execution_count": 16,
   "id": "5e70c9a6",
   "metadata": {},
   "outputs": [
    {
     "data": {
      "image/png": "[encoded data removed]",
      "text/plain": [
       "<IPython.core.display.Image object>"
      ]
     },
     "metadata": {},
     "output_type": "display_data"
    }
   ],
   "source": [
    "from IPython.display import Image,display\n",
    "display(Image(app.get_graph().draw_mermaid_png()))"
   ]
  },
  {
   "cell_type": "code",
   "execution_count": 17,
   "id": "8a72af48",
   "metadata": {},
   "outputs": [
    {
     "name": "stdout",
     "output_type": "stream",
     "text": [
      "💡 Feedback: This post could benefit from more specific examples or statistics to make the importance of teaching...\n",
      "💡 Feedback: To improve engagement and viral potential, consider adding more specific examples of how learning fo...\n",
      "💡 Feedback: This post is engaging and informative, but to increase its viral potential, consider adding personal...\n",
      "💡 Feedback: This post does a great job of highlighting the benefits of learning a foreign language and encouragi...\n",
      "💡 Feedback: This post does a great job of highlighting the benefits of learning a foreign language and encouragi...\n",
      "\n",
      "==================================================\n",
      "🎯 FINAL RESULT\n",
      "==================================================\n",
      "Title: Embrace the Power of Language Learning: Share Your Story 🌍\n",
      "\n",
      "In a country as diverse as India, the impact of learning foreign languages goes beyond just communication - it can actually reshape our brains and enhance cognitive abilities. Our youth are exploring the beauty of global languages, opening up a world of possibilities.\n",
      "\n",
      "When we integrate foreign language education into our schools, we are not just preparing students for a connected world - we are fostering a deep appreciation for diverse cultures and unlocking endless opportunities. From career growth to improved communication skills, the benefits are truly limitless.\n",
      "\n",
      "Do you have a life-changing moment from learning a foreign language? Share your unique perspective on the importance of diversity in education in the comments below. Let's come together over our shared passion for language learning and inspire a new generation of global citizens. #LanguageLearning #GlobalCitizenship #DiversityInEducation 🌏📚✨\n",
      "\n",
      "Let's make language learning go viral! Share your language learning journey with a video or image using the hashtag #LanguageLearning. Join the conversation and connect with others who have similar experiences. Reach out to influencers and language learning communities to amplify the reach of our message and inspire more people to embrace the beauty of global languages. Together, we can spark a movement of language learners changing lives one word at a time.\n"
     ]
    }
   ],
   "source": [
    "result = app.invoke({\n",
    "    'current_post': '',\n",
    "    'feedback': '',\n",
    "    'count': 0\n",
    "})\n",
    "\n",
    "print(\"\\n\" + \"=\" * 50)\n",
    "print(\"🎯 FINAL RESULT\")\n",
    "print(\"=\" * 50)\n",
    "print(result['current_post'])\n",
    "\n",
    "\n"
   ]
  }
 ],
 "metadata": {
  "kernelspec": {
   "display_name": "venv",
   "language": "python",
   "name": "python3"
  },
  "language_info": {
   "codemirror_mode": {
    "name": "ipython",
    "version": 3
   },
   "file_extension": ".py",
   "mimetype": "text/x-python",
   "name": "python",
   "nbconvert_exporter": "python",
   "pygments_lexer": "ipython3",
   "version": "3.13.4"
  }
 },
 "nbformat": 4,
 "nbformat_minor": 5
}
