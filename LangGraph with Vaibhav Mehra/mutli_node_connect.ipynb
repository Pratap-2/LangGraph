{
 "cells": [
  {
   "cell_type": "code",
   "execution_count": 30,
   "id": "f7c268e5",
   "metadata": {},
   "outputs": [],
   "source": [
    "from typing import TypedDict, List, Annotated\n",
    "import operator\n",
    "\n",
    "class AgentState(TypedDict):\n",
    "    name: str\n",
    "    age: int\n",
    "    skills: List[str]\n",
    "    message: Annotated[str, operator.add]\n"
   ]
  },
  {
   "cell_type": "code",
   "execution_count": 31,
   "id": "2e35c9e7",
   "metadata": {},
   "outputs": [],
   "source": [
    "def start_node(state: AgentState) -> AgentState:\n",
    "    return {'message': f\"Hello {state['name']}!\", **state}\n",
    "\n",
    "def age_node(state: AgentState) -> AgentState:\n",
    "    return {'message': f\" You are {state['age']} years old.\"}\n",
    "\n",
    "def skill_node(state: AgentState) -> AgentState:\n",
    "    skills = ', '.join(state['skills'])\n",
    "    return {'message': f\" Your skills include: {skills}.\"}\n",
    "\n",
    "def final_node(state: AgentState) -> AgentState:\n",
    "    return {'message': state['message'] + \" Welcome to the final node!\"}\n"
   ]
  },
  {
   "cell_type": "code",
   "execution_count": 32,
   "id": "b3ae2357",
   "metadata": {},
   "outputs": [
    {
     "name": "stdout",
     "output_type": "stream",
     "text": [
      " You are 20 years old. Your skills include: LangChain, LangGraph. You are 20 years old. Your skills include: LangChain, LangGraph. Welcome to the final node!\n"
     ]
    }
   ],
   "source": [
    "\n",
    "from langgraph.graph import StateGraph\n",
    "\n",
    "graph = StateGraph(AgentState)\n",
    "\n",
    "graph.add_node('start_node', start_node)\n",
    "graph.add_node('age_node', age_node)\n",
    "graph.add_node('skill_node', skill_node)\n",
    "graph.add_node('final_node', final_node)\n",
    "\n",
    "# Connect start_node to multiple nodes\n",
    "graph.add_edge('start_node', 'age_node')\n",
    "graph.add_edge('start_node', 'skill_node')\n",
    "\n",
    "# Connect both to final_node\n",
    "graph.add_edge('age_node', 'final_node')\n",
    "graph.add_edge('skill_node', 'final_node')\n",
    "\n",
    "graph.set_entry_point('start_node')\n",
    "graph.set_finish_point('final_node')\n",
    "\n",
    "\n",
    "# Then compile\n",
    "model = graph.compile()\n",
    "\n",
    "\n",
    "result = model.invoke({\n",
    "    'name': 'Pratap',\n",
    "    'age': 20,\n",
    "    'skills': ['LangChain', 'LangGraph'],\n",
    "    'message': ''\n",
    "})\n",
    "\n",
    "print(result['message'])\n"
   ]
  }
 ],
 "metadata": {
  "kernelspec": {
   "display_name": "venv",
   "language": "python",
   "name": "python3"
  },
  "language_info": {
   "codemirror_mode": {
    "name": "ipython",
    "version": 3
   },
   "file_extension": ".py",
   "mimetype": "text/x-python",
   "name": "python",
   "nbconvert_exporter": "python",
   "pygments_lexer": "ipython3",
   "version": "3.13.4"
  }
 },
 "nbformat": 4,
 "nbformat_minor": 5
}
