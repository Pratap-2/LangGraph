{
 "cells": [
  {
   "cell_type": "code",
   "execution_count": 43,
   "id": "7e7e47a1",
   "metadata": {},
   "outputs": [],
   "source": [
    "from typing import TypedDict\n",
    "from langgraph.graph import StateGraph ,START,END"
   ]
  },
  {
   "cell_type": "code",
   "execution_count": 44,
   "id": "dd5174b3",
   "metadata": {},
   "outputs": [],
   "source": [
    "class AgentState (TypedDict) :\n",
    "    num1 : int \n",
    "    num2 : int\n",
    "    operation : str\n",
    "    final : int "
   ]
  },
  {
   "cell_type": "code",
   "execution_count": null,
   "metadata": {},
   "outputs": [],
   "source": [
    "def add(state :AgentState ) -> AgentState :\n",
    "    state['final'] = state ['num1'] + state ['num2']\n",
    "    return state\n",
    "\n",
    "def subtract (state :AgentState ) -> AgentState :\n",
    "    state['final'] = state['num1']- state['num2']\n",
    "    return state\n",
    "\n",
    "def add_conditonal_node (state :AgentState) ->str:\n",
    "    \"\"\"This switches between the nodes\"\"\"\n",
    "    if state['operation']=='+':\n",
    "        return \"addition\"\n",
    "    elif state['operation'] == '-':\n",
    "        return \"subtraction\"\n",
    "    \n"
   ]
  },
  {
   "cell_type": "code",
   "execution_count": 46,
   "id": "aa37226b",
   "metadata": {},
   "outputs": [],
   "source": [
    "graph = StateGraph (AgentState)\n",
    "graph.add_node (\"Adder\", add)\n",
    "graph.add_node ('subtractor',subtract)\n",
    "graph.add_node ('Router',lambda state : state)\n",
    "\n",
    "graph.add_edge(START,'Router')\n",
    "graph.add_conditional_edges(\n",
    "    'Router',\n",
    "    add_conditonal_node,\n",
    "    {\n",
    "        # Edge :Node\n",
    "        'addition':'Adder',\n",
    "        'subtraction' : 'subtractor'\n",
    "    }\n",
    ")\n",
    "\n",
    "graph.add_edge('Adder',END)\n",
    "graph.add_edge ('subtractor',END )\n",
    "\n",
    "model=graph.compile()"
   ]
  },
  {
   "cell_type": "code",
   "execution_count": 48,
   "id": "d6f37837",
   "metadata": {},
   "outputs": [
    {
     "data": {
      "image/png": "[encoded data removed]",
      "text/plain": [
       "<IPython.core.display.Image object>"
      ]
     },
     "metadata": {},
     "output_type": "display_data"
    }
   ],
   "source": [
    "from IPython.display import Image,display\n",
    "display(Image(model.get_graph().draw_mermaid_png()))"
   ]
  },
  {
   "cell_type": "code",
   "execution_count": 47,
   "id": "f2f72bbb",
   "metadata": {},
   "outputs": [
    {
     "name": "stdout",
     "output_type": "stream",
     "text": [
      "{'num1': 10, 'num2': 5, 'operation': '-', 'final': 5}\n"
     ]
    }
   ],
   "source": [
    "rslt=model.invoke({'num1':10 ,'num2' :5 , 'operation':'-'})\n",
    "print(rslt)"
   ]
  }
 ],
 "metadata": {
  "kernelspec": {
   "display_name": "venv",
   "language": "python",
   "name": "python3"
  },
  "language_info": {
   "codemirror_mode": {
    "name": "ipython",
    "version": 3
   },
   "file_extension": ".py",
   "mimetype": "text/x-python",
   "name": "python",
   "nbconvert_exporter": "python",
   "pygments_lexer": "ipython3",
   "version": "3.13.4"
  }
 },
 "nbformat": 4,
 "nbformat_minor": 5
}
