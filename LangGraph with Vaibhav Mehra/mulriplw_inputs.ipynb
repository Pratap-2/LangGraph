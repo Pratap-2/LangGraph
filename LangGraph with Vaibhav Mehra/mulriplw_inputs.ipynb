{
 "cells": [
  {
   "cell_type": "code",
   "execution_count": 1,
   "id": "ff8bfd93",
   "metadata": {},
   "outputs": [],
   "source": [
    "from typing import TypedDict,List\n",
    "from langgraph.graph import StateGraph"
   ]
  },
  {
   "cell_type": "code",
   "execution_count": 2,
   "id": "dabf06da",
   "metadata": {},
   "outputs": [],
   "source": [
    "class AgentState(TypedDict):\n",
    "    num:List[int]\n",
    "    name:str\n",
    "    message:str"
   ]
  },
  {
   "cell_type": "code",
   "execution_count": 3,
   "id": "2a150757",
   "metadata": {},
   "outputs": [],
   "source": [
    "def multiple_passer(state:AgentState) -> AgentState :\n",
    "    print(state)\n",
    "    state['message']=f\"Hi {state['name']} the sum of your values is {sum(state['num'])}\"\n",
    "    print(state)\n",
    "    return state"
   ]
  },
  {
   "cell_type": "code",
   "execution_count": 4,
   "id": "396daf67",
   "metadata": {},
   "outputs": [],
   "source": [
    "graph=StateGraph(AgentState)\n",
    "graph.add_node('multi',multiple_passer)\n",
    "graph.set_entry_point('multi')\n",
    "graph.set_finish_point('multi')\n",
    "\n",
    "app=graph.compile()"
   ]
  },
  {
   "cell_type": "code",
   "execution_count": 7,
   "metadata": {},
   "outputs": [
    {
     "name": "stdout",
     "output_type": "stream",
     "text": [
      "{'num': [1, 2, 3, 4, 5], 'name': 'Aditya'}\n",
      "{'num': [1, 2, 3, 4, 5], 'name': 'Aditya', 'message': 'Hi Aditya the sum of your values is 15'}\n"
     ]
    }
   ],
   "source": [
    "rslt=app.invoke({\"num\":[1,2,3,4,5],\"name\":'Aditya'})\n",
    "# print(rslt)"
   ]
  }
 ],
 "metadata": {
  "kernelspec": {
   "display_name": "venv",
   "language": "python",
   "name": "python3"
  },
  "language_info": {
   "codemirror_mode": {
    "name": "ipython",
    "version": 3
   },
   "file_extension": ".py",
   "mimetype": "text/x-python",
   "name": "python",
   "nbconvert_exporter": "python",
   "pygments_lexer": "ipython3",
   "version": "3.13.4"
  }
 },
 "nbformat": 4,
 "nbformat_minor": 5
}
