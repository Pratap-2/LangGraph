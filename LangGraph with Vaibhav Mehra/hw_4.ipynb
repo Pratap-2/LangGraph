{
 "cells": [
  {
   "cell_type": "code",
   "execution_count": 43,
   "id": "336631b2",
   "metadata": {},
   "outputs": [],
   "source": [
    "from typing import TypedDict\n",
    "from langgraph.graph import StateGraph,START,END"
   ]
  },
  {
   "cell_type": "code",
   "execution_count": 44,
   "id": "27ce02e1",
   "metadata": {},
   "outputs": [],
   "source": [
    "class AgentState (TypedDict):\n",
    "    num1:int\n",
    "    num2:int\n",
    "    num3:int\n",
    "    num4:int\n",
    "    oper1:str\n",
    "    oper2:str\n",
    "    result1:int\n",
    "    result2:int"
   ]
  },
  {
   "cell_type": "code",
   "execution_count": null,
   "id": "f047190d",
   "metadata": {},
   "outputs": [],
   "source": [
    "def add1(state :AgentState) ->AgentState:\n",
    "    state['result1']=state['num1']+state['num2']\n",
    "    return state\n",
    "\n",
    "def sub1(state :AgentState) ->AgentState:\n",
    "    state['result1']=state['num1']-state['num2']\n",
    "    return state\n",
    "\n",
    "def add2(state :AgentState) -> AgentState:\n",
    "    state['result2']=state['num3']+state['num4']\n",
    "    return state\n",
    "\n",
    "def sub2(state :AgentState) ->AgentState:\n",
    "    state['result2']=state['num3']-state['num4']\n",
    "    return state\n",
    "\n",
    "def router1(state :AgentState) ->AgentState :\n",
    "    \"\"\"This switches between the nodes\"\"\"\n",
    "    if state['oper1'] =='+':\n",
    "        return \"add\"\n",
    "    else :\n",
    "        return \"Sub\"\n",
    "\n",
    "def router2 (state :AgentState) ->AgentState :\n",
    "    \"\"\"This switches between the nodes\"\"\"\n",
    "    if state['oper2'] =='+':\n",
    "        return \"add\"\n",
    "    else :\n",
    "        return \"Sub\""
   ]
  },
  {
   "cell_type": "code",
   "execution_count": 46,
   "id": "ed60d628",
   "metadata": {},
   "outputs": [],
   "source": [
    "graph= StateGraph(AgentState)\n",
    "graph.add_node(\"addition1\",add1)\n",
    "graph.add_node(\"subtract1\",sub1)\n",
    "graph.add_node('router1',lambda state : state)\n",
    "graph.add_node('router2',lambda state : state)\n",
    "\n",
    "graph.add_conditional_edges(\n",
    "    'router1',\n",
    "    router1,\n",
    "    {\n",
    "        \"add\":\"addition1\",\n",
    "        \"Sub\" :'subtract1'\n",
    "    }\n",
    ")\n",
    "graph.add_edge(START,'router1')\n",
    "graph.add_edge(\"addition1\",'router2')\n",
    "graph.add_edge(\"subtract1\",'router2')\n",
    "\n",
    "graph.add_node(\"addition2\",add2)\n",
    "graph.add_node(\"subtract2\",sub2)\n",
    "\n",
    "graph.add_conditional_edges(\n",
    "    'router2',\n",
    "    router2,\n",
    "    {\n",
    "        'add':\"addition2\",\n",
    "        'Sub':'subtract2'\n",
    "    }\n",
    ")\n",
    "\n",
    "graph.add_edge(\"addition2\",END)\n",
    "graph.add_edge('subtract2',END)\n",
    "model=graph.compile()"
   ]
  },
  {
   "cell_type": "code",
   "execution_count": 47,
   "id": "83718d27",
   "metadata": {},
   "outputs": [
    {
     "data": {
      "image/png": "[encoded data removed]",
      "text/plain": [
       "<IPython.core.display.Image object>"
      ]
     },
     "metadata": {},
     "output_type": "display_data"
    }
   ],
   "source": [
    "from IPython.display import Image,display\n",
    "display(Image(model.get_graph().draw_mermaid_png()))"
   ]
  },
  {
   "cell_type": "code",
   "execution_count": 48,
   "id": "8e28d0c7",
   "metadata": {},
   "outputs": [
    {
     "name": "stdout",
     "output_type": "stream",
     "text": [
      "{'num1': 10, 'num2': 5, 'num3': 3, 'num4': 7, 'oper1': '+', 'oper2': '+', 'result1': 15, 'result2': 10}\n"
     ]
    }
   ],
   "source": [
    "rslt=model.invoke({'num1':10,'num2':5,'oper1':'+','num3':3,'num4':7,'oper2':'+'})\n",
    "print(rslt)"
   ]
  },
  {
   "cell_type": "code",
   "execution_count": null,
   "id": "ee884a54",
   "metadata": {},
   "outputs": [],
   "source": []
  },
  {
   "cell_type": "code",
   "execution_count": null,
   "id": "919bd5b9",
   "metadata": {},
   "outputs": [],
   "source": []
  },
  {
   "cell_type": "code",
   "execution_count": null,
   "id": "5b6d7891",
   "metadata": {},
   "outputs": [],
   "source": []
  }
 ],
 "metadata": {
  "kernelspec": {
   "display_name": "venv",
   "language": "python",
   "name": "python3"
  },
  "language_info": {
   "codemirror_mode": {
    "name": "ipython",
    "version": 3
   },
   "file_extension": ".py",
   "mimetype": "text/x-python",
   "name": "python",
   "nbconvert_exporter": "python",
   "pygments_lexer": "ipython3",
   "version": "3.13.4"
  }
 },
 "nbformat": 4,
 "nbformat_minor": 5
}
