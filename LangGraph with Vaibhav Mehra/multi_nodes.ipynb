{
 "cells": [
  {
   "cell_type": "code",
   "execution_count": 18,
   "id": "5d2dd179",
   "metadata": {},
   "outputs": [],
   "source": [
    "from typing import TypedDict\n",
    "from langgraph.graph import StateGraph"
   ]
  },
  {
   "cell_type": "code",
   "execution_count": 19,
   "id": "ee74e9bf",
   "metadata": {},
   "outputs": [],
   "source": [
    "class AgentState(TypedDict):\n",
    "    name:str\n",
    "    age:int\n",
    "    message:str"
   ]
  },
  {
   "cell_type": "code",
   "execution_count": 20,
   "id": "95f2620c",
   "metadata": {},
   "outputs": [],
   "source": [
    "def first_node(state:AgentState) -> AgentState:\n",
    "    state['message']= f\"Hii {state['name']}.\"\n",
    "    return state"
   ]
  },
  {
   "cell_type": "code",
   "execution_count": 21,
   "id": "2d348838",
   "metadata": {},
   "outputs": [],
   "source": [
    "def second_node(state : AgentState) -> AgentState :\n",
    "    state['message'] =state[ 'message'] + f\" You are {state['age']} years old .\"\n",
    "    return state"
   ]
  },
  {
   "cell_type": "code",
   "execution_count": 22,
   "id": "af91c6f4",
   "metadata": {},
   "outputs": [],
   "source": [
    "graph=StateGraph(AgentState)\n",
    "\n",
    "graph.add_node('first_node',first_node)\n",
    "graph.add_node('second_node',second_node)\n",
    "\n",
    "graph.set_entry_point('first_node')\n",
    "graph.add_edge('first_node','second_node')\n",
    "graph.set_finish_point('second_node')\n",
    "\n",
    "model=graph.compile()"
   ]
  },
  {
   "cell_type": "code",
   "execution_count": 23,
   "id": "cb1ee481",
   "metadata": {},
   "outputs": [
    {
     "name": "stdout",
     "output_type": "stream",
     "text": [
      "Hii Pratap. You are 20 years old .\n"
     ]
    }
   ],
   "source": [
    "rslt=model.invoke({'name':'Pratap','age':20})\n",
    "print(rslt['message'])"
   ]
  }
 ],
 "metadata": {
  "kernelspec": {
   "display_name": "venv",
   "language": "python",
   "name": "python3"
  },
  "language_info": {
   "codemirror_mode": {
    "name": "ipython",
    "version": 3
   },
   "file_extension": ".py",
   "mimetype": "text/x-python",
   "name": "python",
   "nbconvert_exporter": "python",
   "pygments_lexer": "ipython3",
   "version": "3.13.4"
  }
 },
 "nbformat": 4,
 "nbformat_minor": 5
}
