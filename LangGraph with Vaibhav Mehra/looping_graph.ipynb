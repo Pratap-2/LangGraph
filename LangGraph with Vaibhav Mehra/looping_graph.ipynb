{
 "cells": [
  {
   "cell_type": "code",
   "execution_count": 20,
   "id": "c84ca80e",
   "metadata": {},
   "outputs": [],
   "source": [
    "from typing import TypedDict,List\n",
    "import random\n",
    "from langgraph.graph import StateGraph,START,END"
   ]
  },
  {
   "cell_type": "code",
   "execution_count": 21,
   "id": "57ce73c3",
   "metadata": {},
   "outputs": [],
   "source": [
    "class AgentState (TypedDict):\n",
    "    message :str\n",
    "    name :str\n",
    "    number :List[int]\n",
    "    counter : int"
   ]
  },
  {
   "cell_type": "code",
   "execution_count": 22,
   "id": "319fc564",
   "metadata": {},
   "outputs": [],
   "source": [
    "def greet (state :AgentState) ->AgentState:\n",
    "    state['message']=f'Hi {state['name']} ! welcome back , so glad to see you '\n",
    "    state['counter']=0\n",
    "    return state\n",
    "\n",
    "def random_plug(state :AgentState) ->AgentState:\n",
    "    \"\"\"Generates a random number from 0 to 10\"\"\"\n",
    "    state['number'].append(random.randint(0,10))\n",
    "    state['counter']+=1\n",
    "    return state\n",
    "\n",
    "def loop (state : AgentState)->AgentState:\n",
    "    if len(state['number'])<5 :\n",
    "        return \"looping\"\n",
    "    else :\n",
    "        return \"exit\""
   ]
  },
  {
   "cell_type": "code",
   "execution_count": 23,
   "id": "2b9f483e",
   "metadata": {},
   "outputs": [],
   "source": [
    "graph =StateGraph(AgentState)\n",
    "graph.add_node('greet',greet)\n",
    "graph.add_node('random',random_plug)\n",
    "graph.add_conditional_edges(\n",
    "    'random',\n",
    "    loop,\n",
    "    {\n",
    "       \"looping\":\"random\" ,\n",
    "       \"exit\":END\n",
    "    }\n",
    ")\n",
    "\n",
    "graph.add_edge(START,'greet')\n",
    "graph.add_edge('greet','random')\n",
    "model=graph.compile()"
   ]
  },
  {
   "cell_type": "code",
   "execution_count": 24,
   "id": "c6048ffe",
   "metadata": {},
   "outputs": [
    {
     "data": {
      "image/png": "[encoded data removed]",
      "text/plain": [
       "<IPython.core.display.Image object>"
      ]
     },
     "metadata": {},
     "output_type": "display_data"
    }
   ],
   "source": [
    "from IPython.display import Image,display\n",
    "display(Image(model.get_graph().draw_mermaid_png()))"
   ]
  },
  {
   "cell_type": "code",
   "execution_count": 25,
   "id": "fe757c43",
   "metadata": {},
   "outputs": [
    {
     "name": "stdout",
     "output_type": "stream",
     "text": [
      "{'message': 'Hi Vaibhav ! welcome back , so glad to see you ', 'name': 'Vaibhav', 'number': [5, 1, 9, 10, 9], 'counter': 5}\n"
     ]
    }
   ],
   "source": [
    "rslt=model.invoke({\"name\":\"Vaibhav\", \"number\":[], \"counter\":-100})\n",
    "print(rslt)"
   ]
  },
  {
   "cell_type": "code",
   "execution_count": null,
   "id": "c3438737",
   "metadata": {},
   "outputs": [],
   "source": []
  }
 ],
 "metadata": {
  "kernelspec": {
   "display_name": "venv",
   "language": "python",
   "name": "python3"
  },
  "language_info": {
   "codemirror_mode": {
    "name": "ipython",
    "version": 3
   },
   "file_extension": ".py",
   "mimetype": "text/x-python",
   "name": "python",
   "nbconvert_exporter": "python",
   "pygments_lexer": "ipython3",
   "version": "3.13.4"
  }
 },
 "nbformat": 4,
 "nbformat_minor": 5
}
