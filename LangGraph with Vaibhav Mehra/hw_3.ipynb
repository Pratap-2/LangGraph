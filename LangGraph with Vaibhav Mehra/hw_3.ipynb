{
 "cells": [
  {
   "cell_type": "code",
   "execution_count": 61,
   "id": "74950c0c",
   "metadata": {},
   "outputs": [],
   "source": [
    "from typing import TypedDict,List\n",
    "from langgraph.graph import StateGraph"
   ]
  },
  {
   "cell_type": "code",
   "execution_count": 62,
   "id": "d3468c89",
   "metadata": {},
   "outputs": [],
   "source": [
    "class AgentState (TypedDict) :\n",
    "    name : str\n",
    "    age : int\n",
    "    skills : List[str]\n",
    "    message : str"
   ]
  },
  {
   "cell_type": "code",
   "execution_count": 63,
   "id": "b804b6de",
   "metadata": {},
   "outputs": [],
   "source": [
    "def first_node(state : AgentState) -> AgentState :\n",
    "    state['message']= f\"Hi {state['name']} , Welcome to LangGraph !\"\n",
    "    return state"
   ]
  },
  {
   "cell_type": "code",
   "execution_count": 64,
   "id": "df8fcb8f",
   "metadata": {},
   "outputs": [],
   "source": [
    "def second_node(state : AgentState) -> AgentState :\n",
    "    state['message']= state['message'] +f\"You are {state['age']} years old.\"\n",
    "    return state"
   ]
  },
  {
   "cell_type": "code",
   "execution_count": 65,
   "id": "8c9110e5",
   "metadata": {},
   "outputs": [],
   "source": [
    "def add_message(vector: List[str]) -> str:\n",
    "    mess=''\n",
    "    if len(vector) == 1 :\n",
    "        return vector(0)\n",
    "    else :\n",
    "        mess+=','.join(vector[:-1]) + ', and ' + vector[-1] + '.'\n",
    "        return mess\n"
   ]
  },
  {
   "cell_type": "code",
   "execution_count": 66,
   "id": "41e04351",
   "metadata": {},
   "outputs": [],
   "source": [
    "def third_node(state : AgentState) -> AgentState :\n",
    "    state['message']= state['message'] +f\" You are more good at {(add_message(state['skills']))}\"\n",
    "    return state"
   ]
  },
  {
   "cell_type": "code",
   "execution_count": 67,
   "id": "3a27c6b6",
   "metadata": {},
   "outputs": [],
   "source": [
    "graph=StateGraph(AgentState)\n",
    "\n",
    "graph.add_node('first_node',first_node)\n",
    "graph.add_node('second_node',second_node)\n",
    "graph.add_node('third_node',third_node)\n",
    "\n",
    "graph.set_entry_point('first_node')\n",
    "graph.add_edge('first_node','second_node')\n",
    "graph.add_edge('second_node','third_node')\n",
    "graph.set_finish_point('third_node')\n",
    "\n",
    "model=graph.compile()"
   ]
  },
  {
   "cell_type": "code",
   "execution_count": 68,
   "id": "99a2738b",
   "metadata": {},
   "outputs": [
    {
     "name": "stdout",
     "output_type": "stream",
     "text": [
      "Hi Pratap , Welcome to LangGraph !You are 20 years old. You are more good at LangChain,LangGraph,NLP, and Deep Learning.\n"
     ]
    }
   ],
   "source": [
    "rslt=model.invoke({'name':'Pratap','age':20 ,'skills':['LangChain','LangGraph','NLP','Deep Learning']})\n",
    "print(rslt['message'])"
   ]
  },
  {
   "cell_type": "code",
   "execution_count": null,
   "id": "0da2d5c4",
   "metadata": {},
   "outputs": [],
   "source": []
  }
 ],
 "metadata": {
  "kernelspec": {
   "display_name": "venv",
   "language": "python",
   "name": "python3"
  },
  "language_info": {
   "codemirror_mode": {
    "name": "ipython",
    "version": 3
   },
   "file_extension": ".py",
   "mimetype": "text/x-python",
   "name": "python",
   "nbconvert_exporter": "python",
   "pygments_lexer": "ipython3",
   "version": "3.13.4"
  }
 },
 "nbformat": 4,
 "nbformat_minor": 5
}
