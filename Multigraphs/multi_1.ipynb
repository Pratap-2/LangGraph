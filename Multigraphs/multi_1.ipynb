{
 "cells": [
  {
   "cell_type": "code",
   "execution_count": 2,
   "id": "4623eefc",
   "metadata": {},
   "outputs": [],
   "source": [
    "from typing_extensions import TypedDict, Literal\n",
    "from langgraph.graph import StateGraph, END, START\n",
    "from langgraph.types import interrupt, Command\n",
    "from langgraph.types import RunnableConfig\n",
    "from dataclasses import dataclass"
   ]
  },
  {
   "cell_type": "code",
   "execution_count": 3,
   "id": "7b6a172d",
   "metadata": {},
   "outputs": [],
   "source": [
    "class State(TypedDict):\n",
    "    user_id: str\n",
    "    verified: bool\n",
    "    step: str\n"
   ]
  },
  {
   "cell_type": "markdown",
   "id": "c546fc45",
   "metadata": {},
   "source": [
    "2. Build the subgraph (user verification)"
   ]
  },
  {
   "cell_type": "code",
   "execution_count": 4,
   "id": "ace45f51",
   "metadata": {},
   "outputs": [],
   "source": [
    "def verify_email(state: State) -> dict:\n",
    "    print(f\"Verifying email for {state['user_id']}\")\n",
    "    return {\"step\": \"email_verified\"}\n",
    "\n",
    "def verify_otp(state: State) -> dict:\n",
    "    print(f\"OTP verified for {state['user_id']}\")\n",
    "    return {\"step\": \"otp_verified\", \"verified\": True}\n",
    "\n",
    "def done(state: State):\n",
    "    # this node will now be interrupted, and the parent graph will handle the next step\n",
    "    print(\"Subgraph done, returning to parent...\")\n",
    "    return\n",
    "\n",
    "subgraph_builder = StateGraph(State)\n",
    "subgraph_builder.add_node(\"verify_email\", verify_email)\n",
    "subgraph_builder.add_node(\"verify_otp\", verify_otp)\n",
    "subgraph_builder.add_node(\"done\", done)\n",
    "subgraph_builder.set_entry_point(\"verify_email\")\n",
    "subgraph_builder.add_edge(\"verify_email\", \"verify_otp\")\n",
    "subgraph_builder.add_edge(\"verify_otp\", \"done\")\n",
    "subgraph = subgraph_builder.compile(interrupt_after=[\"done\"])"
   ]
  },
  {
   "cell_type": "markdown",
   "id": "6052e323",
   "metadata": {},
   "source": [
    "3. Build the parent graph"
   ]
  },
  {
   "cell_type": "code",
   "execution_count": 5,
   "metadata": {},
   "outputs": [],
   "source": [
    "def router_node(state: State) -> dict:\n",
    "    print(\"Routing into subgraph...\")\n",
    "    return {\"step\": \"user_verification\"}\n",
    "\n",
    "def final_node(state: State) -> dict:\n",
    "    print(\"Back in parent graph!\")\n",
    "    return {\"step\": \"completed\"}\n",
    "\n",
    "parent_builder = StateGraph(State)\n",
    "parent_builder.add_node(\"router_node\", router_node)\n",
    "parent_builder.add_node(\"user_verification\", subgraph)\n",
    "parent_builder.add_node(\"final_node\", final_node)\n",
    "\n",
    "parent_builder.add_conditional_edges(\n",
    "    \"router_node\",\n",
    "    lambda x: x[\"step\"],\n",
    "    {\n",
    "        \"user_verification\": \"user_verification\",\n",
    "        \"final_node\": \"final_node\"\n",
    "    }\n",
    ")\n",
    "parent_builder.add_edge(\"user_verification\", \"final_node\")\n",
    "parent_builder.set_entry_point(\"router_node\")\n",
    "parent_builder.set_finish_point(\"final_node\")\n",
    "graph = parent_builder.compile()"
   ]
  },
  {
   "cell_type": "code",
   "execution_count": 6,
   "metadata": {},
   "outputs": [
    {
     "name": "stdout",
     "output_type": "stream",
     "text": [
      "Routing into subgraph...\n",
      "Verifying email for abc123\n",
      "OTP verified for abc123\n",
      "Subgraph done, returning to parent...\n",
      "Final output: {'user_id': 'abc123', 'verified': False, 'step': 'user_verification'}\n"
     ]
    }
   ],
   "source": [
    "output = graph.invoke({\"user_id\": \"abc123\", \"verified\": False, \"step\": \"\"})\n",
    "print(\"Final output:\", output)\n"
   ]
  }
 ],
 "metadata": {
  "kernelspec": {
   "display_name": "venv",
   "language": "python",
   "name": "python3"
  },
  "language_info": {
   "codemirror_mode": {
    "name": "ipython",
    "version": 3
   },
   "file_extension": ".py",
   "mimetype": "text/x-python",
   "name": "python",
   "nbconvert_exporter": "python",
   "pygments_lexer": "ipython3",
   "version": "3.13.4"
  }
 },
 "nbformat": 4,
 "nbformat_minor": 5
}
